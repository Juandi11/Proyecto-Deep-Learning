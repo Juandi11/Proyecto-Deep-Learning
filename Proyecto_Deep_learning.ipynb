{
  "cells": [
    {
      "cell_type": "code",
      "execution_count": 89,
      "metadata": {
        "id": "WcdRijikI8ut"
      },
      "outputs": [],
      "source": [
        "from sklearn.metrics import confusion_matrix, classification_report\n",
        "from sklearn.model_selection import train_test_split\n",
        "from tensorflow.keras.layers import LSTM, Dense\n",
        "from tensorflow.keras.models import Sequential\n",
        "import matplotlib.pyplot as plt\n",
        "import tensorflow as tf\n",
        "from tqdm import tqdm\n",
        "import pandas as pd\n",
        "import numpy as np\n",
        "from tensorflow import keras"
      ]
    },
    {
      "cell_type": "code",
      "execution_count": 90,
      "metadata": {
        "colab": {
          "base_uri": "https://localhost:8080/"
        },
        "id": "_NgLrjWg2LvJ",
        "outputId": "356c7867-a831-4a4a-ea08-4474d73dd1d1"
      },
      "outputs": [
        {
          "output_type": "stream",
          "name": "stdout",
          "text": [
            "Cloning into 'Series_de_tiempo'...\n",
            "remote: Enumerating objects: 10004, done.\u001b[K\n",
            "remote: Total 10004 (delta 0), reused 0 (delta 0), pack-reused 10004\u001b[K\n",
            "Receiving objects: 100% (10004/10004), 1.35 GiB | 14.74 MiB/s, done.\n",
            "Updating files: 100% (10001/10001), done.\n"
          ]
        }
      ],
      "source": [
        "!git clone https://github.com/Juandi11/Series_de_tiempo.git #Se lee la URL donde se alojaron las series de tiempo"
      ]
    },
    {
      "cell_type": "code",
      "execution_count": 111,
      "metadata": {
        "colab": {
          "base_uri": "https://localhost:8080/"
        },
        "id": "O-OOHATCt1T_",
        "outputId": "a3334544-dbdb-422d-db92-8b2f53aafb46"
      },
      "outputs": [
        {
          "output_type": "stream",
          "name": "stderr",
          "text": [
            "100%|██████████| 3186/3186 [02:05<00:00, 25.40it/s]\n"
          ]
        }
      ],
      "source": [
        "malos = [156, 751, 947, 1314, 1586, 1739, 1742, 2075, 2286, 2528, 2747, 2939, 2961, 3030, 3226, 3245, 4276,\n",
        "         4357, 4724, 4725, 4799, 4855, 5154, 5224, 5281, 5370, 5497, 5577, 5609, 5717, 5740, 5945, 6049,\n",
        "         6366, 7607, 7754, 7909, 7950, 8099, 8307, 8331, 8556, 8826, 9038, 9276, 9510, 9984] #series de tiempo con datos erróneos\n",
        "\n",
        "cantidad=3200 #Cantidad de series de tiempo utilizadas para Train y Test\n",
        "\n",
        "Apredecir = [] # aqui van las series utilizadas para Train y Test, excluyendo las series de tiempo malas o con datos erróneos\n",
        "for i in range(1, cantidad+1):\n",
        "  if (not i in malos): # se excluyen las que están malas\n",
        "    Apredecir.append(i) #se agregan a la lista vacía\n",
        "\n",
        "s = [] # aqui se guardan las series ya procesadas\n",
        "\n",
        "tiempo_05= 62 # ventana de 0.5 segundos\n",
        "tiempo2 = 242 # ventana de 2 segundos\n",
        "tiempo4 = 482 # ventana de 4 segundos\n",
        "tiempo5 = 602 # ventana de 5 segundos\n",
        "tiempo6 = 722 # ventana de 6 segundos\n",
        "\n",
        "for i in tqdm(Apredecir):\n",
        "  ser = pd.read_csv(f'/content/Series_de_tiempo/tseries_CSV/tseries{i}.csv', sep = ',') # se leen los archivos del github\n",
        "  ser = ser.iloc[1:tiempo2,1:].apply(pd.to_numeric).to_numpy() # se toman solo los valores numericos indicados en la ventana de tiempo dada\n",
        "  s.append(ser) # se añade a la lista de series\n",
        "ser = np.array(s) # se pasa a un array el total de series\n",
        "del(s) #Se elimina la lista s\n",
        "\n",
        "# se lee el archivo de etiquetas de ceros (0s) y unos (1s) de las series a usar en Train y Test\n",
        "y = pd.read_excel('/content/Series_de_tiempo/tseries_CSV/Lyapunov_analysis_10000_cases_mios_clasif.xlsx')['Lyapunov'][Apredecir].to_numpy(float)\n"
      ]
    },
    {
      "cell_type": "code",
      "execution_count": 112,
      "metadata": {
        "colab": {
          "base_uri": "https://localhost:8080/"
        },
        "id": "rV1iNdlAAX7N",
        "outputId": "531aa635-b76e-44d6-86a5-e892a9d7937e"
      },
      "outputs": [
        {
          "output_type": "execute_result",
          "data": {
            "text/plain": [
              "(3186, 241, 39)"
            ]
          },
          "metadata": {},
          "execution_count": 112
        }
      ],
      "source": [
        "ser.shape"
      ]
    },
    {
      "cell_type": "code",
      "execution_count": 113,
      "metadata": {
        "colab": {
          "base_uri": "https://localhost:8080/"
        },
        "id": "JYrpdlVyTNEq",
        "outputId": "b8cf30d0-fbde-4f96-910f-d9de78fdffeb"
      },
      "outputs": [
        {
          "output_type": "execute_result",
          "data": {
            "text/plain": [
              "(3186,)"
            ]
          },
          "metadata": {},
          "execution_count": 113
        }
      ],
      "source": [
        "y.shape"
      ]
    },
    {
      "cell_type": "code",
      "execution_count": 114,
      "metadata": {
        "id": "Dz_UROmy9qzo"
      },
      "outputs": [],
      "source": [
        "X_train, X_test, y_train, y_test = train_test_split(ser, y, test_size=0.2, random_state=42) #Se parte el conjunto de datos en Train y Test"
      ]
    },
    {
      "cell_type": "code",
      "execution_count": 115,
      "metadata": {
        "colab": {
          "base_uri": "https://localhost:8080/"
        },
        "id": "R-Sj5kfXJD0f",
        "outputId": "71e50245-7899-4a44-94e4-5dcff29d5f44"
      },
      "outputs": [
        {
          "output_type": "execute_result",
          "data": {
            "text/plain": [
              "(2548, 241, 39)"
            ]
          },
          "metadata": {},
          "execution_count": 115
        }
      ],
      "source": [
        "X_train.shape"
      ]
    },
    {
      "cell_type": "code",
      "execution_count": 116,
      "metadata": {
        "colab": {
          "base_uri": "https://localhost:8080/"
        },
        "id": "Eh5mKUaYLHci",
        "outputId": "b357ef81-2cd3-4940-e45a-8ba23e0217b4"
      },
      "outputs": [
        {
          "output_type": "execute_result",
          "data": {
            "text/plain": [
              "(2548,)"
            ]
          },
          "metadata": {},
          "execution_count": 116
        }
      ],
      "source": [
        "y_train.shape"
      ]
    },
    {
      "cell_type": "code",
      "execution_count": 117,
      "metadata": {
        "colab": {
          "base_uri": "https://localhost:8080/"
        },
        "id": "rjUDJuG8MhCD",
        "outputId": "7c8d2c1a-5767-4721-b8a1-e3e7bf9d22db"
      },
      "outputs": [
        {
          "output_type": "execute_result",
          "data": {
            "text/plain": [
              "(638, 241, 39)"
            ]
          },
          "metadata": {},
          "execution_count": 117
        }
      ],
      "source": [
        "X_test.shape"
      ]
    },
    {
      "cell_type": "code",
      "execution_count": 118,
      "metadata": {
        "colab": {
          "base_uri": "https://localhost:8080/"
        },
        "id": "CrWnkthNwcWB",
        "outputId": "38a0ff92-09a8-420f-c43e-d54224666356"
      },
      "outputs": [
        {
          "output_type": "execute_result",
          "data": {
            "text/plain": [
              "419.0"
            ]
          },
          "metadata": {},
          "execution_count": 118
        }
      ],
      "source": [
        "sum(y_train)"
      ]
    },
    {
      "cell_type": "markdown",
      "metadata": {
        "id": "XJ0uc8Nhp6ny"
      },
      "source": []
    },
    {
      "cell_type": "code",
      "execution_count": 119,
      "metadata": {
        "id": "MjrIO6OaL2vt",
        "colab": {
          "base_uri": "https://localhost:8080/"
        },
        "outputId": "8328abb1-f34a-48c3-d820-6fd0217228f3"
      },
      "outputs": [
        {
          "output_type": "stream",
          "name": "stdout",
          "text": [
            "2548 241 39\n",
            "(2548, 9399)\n"
          ]
        }
      ],
      "source": [
        "#Sección de balanceo de datos\n",
        "s1,s2,s3 = X_train.shape[0],X_train.shape[1],X_train.shape[2]\n",
        "print(s1,s2,s3)\n",
        "X_train = np.reshape(X_train,(s1, s2*s3)) #Se hace una redimensión de los datos para entrarlos al proceso de balanceo\n",
        "print(X_train.shape)\n",
        "\n",
        "#Importo nueva librería\n",
        "from imblearn.combine import SMOTEENN\n",
        "\n",
        "smenn=SMOTEENN()\n",
        "\n",
        "# Balanceo de datos\n",
        "X_resampled, y_train = smenn.fit_resample(X_train, y_train)\n",
        "\n",
        "#Se vuelve a las dimensiones originales de los datos de Train\n",
        "X_resampled = np.reshape(X_resampled, (X_resampled.shape[0], s2, s3))\n"
      ]
    },
    {
      "cell_type": "code",
      "execution_count": 120,
      "metadata": {
        "colab": {
          "base_uri": "https://localhost:8080/"
        },
        "id": "QOgrvURXtXNF",
        "outputId": "e49dae4a-ae67-4ed3-f800-3656d27688b4"
      },
      "outputs": [
        {
          "output_type": "execute_result",
          "data": {
            "text/plain": [
              "(3875, 241, 39)"
            ]
          },
          "metadata": {},
          "execution_count": 120
        }
      ],
      "source": [
        "X_resampled.shape"
      ]
    },
    {
      "cell_type": "code",
      "execution_count": 121,
      "metadata": {
        "colab": {
          "base_uri": "https://localhost:8080/"
        },
        "id": "w2bLrbCMQ_qq",
        "outputId": "66796f87-72ff-410f-fb06-c402221b931b"
      },
      "outputs": [
        {
          "output_type": "execute_result",
          "data": {
            "text/plain": [
              "(3875,)"
            ]
          },
          "metadata": {},
          "execution_count": 121
        }
      ],
      "source": [
        "y_train.shape"
      ]
    },
    {
      "cell_type": "code",
      "execution_count": 122,
      "metadata": {
        "colab": {
          "base_uri": "https://localhost:8080/"
        },
        "id": "hHN7LPiAQ4lu",
        "outputId": "480c4894-6f39-4b7e-c1a4-1617a1491a92"
      },
      "outputs": [
        {
          "output_type": "execute_result",
          "data": {
            "text/plain": [
              "1981.0"
            ]
          },
          "metadata": {},
          "execution_count": 122
        }
      ],
      "source": [
        "sum(y_train)"
      ]
    },
    {
      "cell_type": "code",
      "execution_count": 123,
      "metadata": {
        "id": "6A-W3rpr8Emm"
      },
      "outputs": [],
      "source": [
        "#Se crea el modelo\n",
        "model = Sequential([\n",
        "    LSTM(35, input_shape=(ser.shape[1], ser.shape[2]), return_sequences=True),\n",
        "    LSTM(35),\n",
        "    Dense(1, activation='sigmoid')\n",
        "])\n",
        "#Métricas a utilizar\n",
        "Metrics = [\n",
        "      keras.metrics.BinaryAccuracy(name='Exactitud'),\n",
        "      keras.metrics.Precision(name='Precisión'),\n",
        "      keras.metrics.Recall(name='Recall'),\n",
        "      ]\n",
        "\n",
        "model.compile(optimizer='adam', loss='binary_crossentropy', metrics=Metrics)"
      ]
    },
    {
      "cell_type": "code",
      "execution_count": 124,
      "metadata": {
        "colab": {
          "base_uri": "https://localhost:8080/"
        },
        "id": "31AzVaXg3_ge",
        "outputId": "f865f448-cbf8-4a89-81e1-363a3faac898"
      },
      "outputs": [
        {
          "output_type": "stream",
          "name": "stdout",
          "text": [
            "Model: \"sequential_6\"\n",
            "_________________________________________________________________\n",
            " Layer (type)                Output Shape              Param #   \n",
            "=================================================================\n",
            " lstm_12 (LSTM)              (None, 241, 35)           10500     \n",
            "                                                                 \n",
            " lstm_13 (LSTM)              (None, 35)                9940      \n",
            "                                                                 \n",
            " dense_6 (Dense)             (None, 1)                 36        \n",
            "                                                                 \n",
            "=================================================================\n",
            "Total params: 20476 (79.98 KB)\n",
            "Trainable params: 20476 (79.98 KB)\n",
            "Non-trainable params: 0 (0.00 Byte)\n",
            "_________________________________________________________________\n"
          ]
        }
      ],
      "source": [
        "model.summary()"
      ]
    },
    {
      "cell_type": "code",
      "execution_count": 125,
      "metadata": {
        "id": "VXRbW9QGQroX",
        "colab": {
          "base_uri": "https://localhost:8080/"
        },
        "outputId": "a57d951e-d3f3-43e6-ac10-353b36201b48"
      },
      "outputs": [
        {
          "output_type": "stream",
          "name": "stdout",
          "text": [
            "Epoch 1/20\n",
            "122/122 [==============================] - 29s 195ms/step - loss: 0.4240 - Exactitud: 0.8196 - Precisión: 0.9319 - Recall: 0.6981\n",
            "Epoch 2/20\n",
            "122/122 [==============================] - 25s 207ms/step - loss: 0.3100 - Exactitud: 0.8795 - Precisión: 0.9725 - Recall: 0.7865\n",
            "Epoch 3/20\n",
            "122/122 [==============================] - 25s 206ms/step - loss: 0.2891 - Exactitud: 0.8805 - Precisión: 0.9651 - Recall: 0.7951\n",
            "Epoch 4/20\n",
            "122/122 [==============================] - 25s 203ms/step - loss: 0.2258 - Exactitud: 0.9133 - Precisión: 0.9768 - Recall: 0.8506\n",
            "Epoch 5/20\n",
            "122/122 [==============================] - 24s 196ms/step - loss: 0.6298 - Exactitud: 0.6867 - Precisión: 0.7314 - Recall: 0.6118\n",
            "Epoch 6/20\n",
            "122/122 [==============================] - 27s 223ms/step - loss: 0.3166 - Exactitud: 0.8699 - Precisión: 0.9701 - Recall: 0.7693\n",
            "Epoch 7/20\n",
            "122/122 [==============================] - 25s 207ms/step - loss: 0.5310 - Exactitud: 0.7368 - Precisión: 0.7914 - Recall: 0.6588\n",
            "Epoch 8/20\n",
            "122/122 [==============================] - 24s 201ms/step - loss: 0.4818 - Exactitud: 0.7855 - Precisión: 0.8194 - Recall: 0.7446\n",
            "Epoch 9/20\n",
            "122/122 [==============================] - 24s 197ms/step - loss: 0.3049 - Exactitud: 0.8813 - Precisión: 0.9866 - Recall: 0.7784\n",
            "Epoch 10/20\n",
            "122/122 [==============================] - 25s 209ms/step - loss: 0.2816 - Exactitud: 0.8854 - Precisión: 0.9770 - Recall: 0.7945\n",
            "Epoch 11/20\n",
            "122/122 [==============================] - 25s 207ms/step - loss: 0.2296 - Exactitud: 0.9151 - Precisión: 0.9842 - Recall: 0.8476\n",
            "Epoch 12/20\n",
            "122/122 [==============================] - 23s 191ms/step - loss: 0.2247 - Exactitud: 0.9143 - Precisión: 0.9847 - Recall: 0.8455\n",
            "Epoch 13/20\n",
            "122/122 [==============================] - 27s 223ms/step - loss: 0.2864 - Exactitud: 0.8883 - Precisión: 0.9754 - Recall: 0.8016\n",
            "Epoch 14/20\n",
            "122/122 [==============================] - 25s 207ms/step - loss: 0.2644 - Exactitud: 0.8849 - Precisión: 0.9632 - Recall: 0.8057\n",
            "Epoch 15/20\n",
            "122/122 [==============================] - 24s 198ms/step - loss: 0.2616 - Exactitud: 0.8981 - Precisión: 0.9720 - Recall: 0.8243\n",
            "Epoch 16/20\n",
            "122/122 [==============================] - 25s 202ms/step - loss: 0.2254 - Exactitud: 0.9154 - Precisión: 0.9905 - Recall: 0.8425\n",
            "Epoch 17/20\n",
            "122/122 [==============================] - 25s 207ms/step - loss: 0.2069 - Exactitud: 0.9172 - Precisión: 0.9798 - Recall: 0.8556\n",
            "Epoch 18/20\n",
            "122/122 [==============================] - 25s 207ms/step - loss: 0.2046 - Exactitud: 0.9190 - Precisión: 0.9849 - Recall: 0.8546\n",
            "Epoch 19/20\n",
            "122/122 [==============================] - 26s 212ms/step - loss: 0.2622 - Exactitud: 0.8800 - Precisión: 0.9650 - Recall: 0.7940\n",
            "Epoch 20/20\n",
            "122/122 [==============================] - 28s 226ms/step - loss: 0.2196 - Exactitud: 0.9141 - Precisión: 0.9819 - Recall: 0.8476\n"
          ]
        },
        {
          "output_type": "execute_result",
          "data": {
            "text/plain": [
              "<keras.src.callbacks.History at 0x78054d2cdc30>"
            ]
          },
          "metadata": {},
          "execution_count": 125
        }
      ],
      "source": [
        "# Entrenamiento del modelo\n",
        "model.fit(X_resampled, y_train, epochs=20)"
      ]
    },
    {
      "cell_type": "code",
      "execution_count": 126,
      "metadata": {
        "colab": {
          "base_uri": "https://localhost:8080/"
        },
        "id": "f530-Igg-Vmb",
        "outputId": "63cbdf6e-6160-476f-f141-62565f42217e"
      },
      "outputs": [
        {
          "output_type": "stream",
          "name": "stdout",
          "text": [
            "20/20 [==============================] - 2s 46ms/step\n",
            "92.94670846394985\n"
          ]
        }
      ],
      "source": [
        "# Prueba de Test\n",
        "predictions = model.predict(X_test)\n",
        "p = predictions > .5 # los que tienen probabilidad mayor a 50% de ser 1 se ponen como 1, el resto es 0\n",
        "r = y_test.reshape(y_test.shape[0], 1)\n",
        "print(100*np.mean(p == r)) # promedio de porcentaje de predicciones correctas"
      ]
    },
    {
      "cell_type": "code",
      "source": [
        "X_test.shape"
      ],
      "metadata": {
        "colab": {
          "base_uri": "https://localhost:8080/"
        },
        "id": "laC3t-TjzGAc",
        "outputId": "a66009ea-6d36-48d0-ac28-e832f263d30c"
      },
      "execution_count": 127,
      "outputs": [
        {
          "output_type": "execute_result",
          "data": {
            "text/plain": [
              "(638, 241, 39)"
            ]
          },
          "metadata": {},
          "execution_count": 127
        }
      ]
    },
    {
      "cell_type": "code",
      "source": [
        "y_test.shape"
      ],
      "metadata": {
        "colab": {
          "base_uri": "https://localhost:8080/"
        },
        "id": "3i2xN5kfy7N8",
        "outputId": "2dddf5ff-d59b-4f12-c5df-3816554855d7"
      },
      "execution_count": 128,
      "outputs": [
        {
          "output_type": "execute_result",
          "data": {
            "text/plain": [
              "(638,)"
            ]
          },
          "metadata": {},
          "execution_count": 128
        }
      ]
    },
    {
      "cell_type": "code",
      "execution_count": 129,
      "metadata": {
        "colab": {
          "base_uri": "https://localhost:8080/"
        },
        "id": "bXEW_XCYAX8z",
        "outputId": "e3396ed5-fa5a-4e47-8186-d37199f15a12"
      },
      "outputs": [
        {
          "output_type": "stream",
          "name": "stdout",
          "text": [
            "[[497  25]\n",
            " [ 20  96]]\n",
            "\n",
            "Informe de clasificación:\n",
            "              precision    recall  f1-score   support\n",
            "\n",
            "         0.0       0.96      0.95      0.96       522\n",
            "         1.0       0.79      0.83      0.81       116\n",
            "\n",
            "    accuracy                           0.93       638\n",
            "   macro avg       0.88      0.89      0.88       638\n",
            "weighted avg       0.93      0.93      0.93       638\n",
            "\n"
          ]
        }
      ],
      "source": [
        "#Resultados de Test\n",
        "print(confusion_matrix(y_test, p.astype(int)))\n",
        "report = classification_report(y_test, p.astype(int))\n",
        "print(\"\\nInforme de clasificación:\")\n",
        "print(report)"
      ]
    },
    {
      "cell_type": "code",
      "execution_count": 130,
      "metadata": {
        "colab": {
          "base_uri": "https://localhost:8080/"
        },
        "id": "t7BCNGsDCLoT",
        "outputId": "242ff35f-84c5-4afb-e559-54493034b92c"
      },
      "outputs": [
        {
          "output_type": "stream",
          "name": "stderr",
          "text": [
            "100%|██████████| 298/298 [00:11<00:00, 25.40it/s]\n"
          ]
        }
      ],
      "source": [
        "#Lectura de datos para validación\n",
        "cantidad_val1=cantidad+1\n",
        "cantidad_val2=cantidad+300 #Se utilizan otras 300 series de tiempo más para la validación\n",
        "\n",
        "Avalidacion = [] # aqui van las series que se van a utilizar para validación\n",
        "for i in range(cantidad_val1, cantidad_val2+1):\n",
        "  if (not i in malos): # se excluyen las que están malas\n",
        "    Avalidacion.append(i) #Se agregan a la lista vacía\n",
        "\n",
        "s2 = [] # aqui se guardan las series ya procesadas\n",
        "\n",
        "for i in tqdm(Avalidacion):\n",
        "  ser2 = pd.read_csv(f'/content/Series_de_tiempo/tseries_CSV/tseries{i}.csv', sep = ',') # se leen los archivos del github\n",
        "  ser2 = ser2.iloc[1:tiempo2,1:].apply(pd.to_numeric).to_numpy() # se toman solo los valores numericos indicados en la ventan de tiempo dada\n",
        "  s2.append(ser2) # se añade a la lista de series\n",
        "ser2 = np.array(s2) # se pasa a un array el total de series\n",
        "del(s2) #se elimina la lista s2\n",
        "\n",
        "# se lee el archivo de etiquetas de ceros (0s) y unos (1s) de las series a usar para Validación\n",
        "y2 = pd.read_excel('/content/Series_de_tiempo/tseries_CSV/Lyapunov_analysis_10000_cases_mios_clasif.xlsx')['Lyapunov'][Avalidacion].to_numpy(float)"
      ]
    },
    {
      "cell_type": "code",
      "execution_count": 131,
      "metadata": {
        "colab": {
          "base_uri": "https://localhost:8080/"
        },
        "id": "J9wvjaQaHk9h",
        "outputId": "32d8b6c1-a673-42e0-92ea-d16792687d4b"
      },
      "outputs": [
        {
          "output_type": "execute_result",
          "data": {
            "text/plain": [
              "(298, 241, 39)"
            ]
          },
          "metadata": {},
          "execution_count": 131
        }
      ],
      "source": [
        "ser2.shape"
      ]
    },
    {
      "cell_type": "code",
      "execution_count": 132,
      "metadata": {
        "colab": {
          "base_uri": "https://localhost:8080/"
        },
        "id": "o_tXjbjJD4-n",
        "outputId": "cef860be-8c83-48b1-8fda-5f85e2c30dc5"
      },
      "outputs": [
        {
          "output_type": "stream",
          "name": "stdout",
          "text": [
            "10/10 [==============================] - 0s 45ms/step\n",
            "94.29530201342283\n"
          ]
        }
      ],
      "source": [
        "# Prueba de Validación\n",
        "predictions_valid = model.predict(ser2)\n",
        "p2 = predictions_valid > .5 # los que tienen probabilidad mayor a 50% de ser 1 se ponen como 1, el resto es 0\n",
        "r2 = y2.reshape(y2.shape[0], 1)\n",
        "print(100*np.mean(p2 == r2)) # promedio de porcentaje de predicciones correctas"
      ]
    },
    {
      "cell_type": "code",
      "execution_count": 133,
      "metadata": {
        "colab": {
          "base_uri": "https://localhost:8080/"
        },
        "id": "qkxzz2DCD_9V",
        "outputId": "0cf3e3cb-abdb-46d7-d03d-3b988c083c6f"
      },
      "outputs": [
        {
          "output_type": "stream",
          "name": "stdout",
          "text": [
            "[[248   6]\n",
            " [ 11  33]]\n",
            "\n",
            "Informe de clasificación:\n",
            "              precision    recall  f1-score   support\n",
            "\n",
            "         0.0       0.96      0.98      0.97       254\n",
            "         1.0       0.85      0.75      0.80        44\n",
            "\n",
            "    accuracy                           0.94       298\n",
            "   macro avg       0.90      0.86      0.88       298\n",
            "weighted avg       0.94      0.94      0.94       298\n",
            "\n"
          ]
        }
      ],
      "source": [
        "#Resultados de Validación\n",
        "print(confusion_matrix(y2, p2.astype(int)))\n",
        "report2 = classification_report(y2, p2.astype(int))\n",
        "print(\"\\nInforme de clasificación:\")\n",
        "print(report2)"
      ]
    }
  ],
  "metadata": {
    "accelerator": "GPU",
    "colab": {
      "gpuType": "T4",
      "provenance": []
    },
    "kernelspec": {
      "display_name": "Python 3",
      "name": "python3"
    },
    "language_info": {
      "name": "python"
    }
  },
  "nbformat": 4,
  "nbformat_minor": 0
}